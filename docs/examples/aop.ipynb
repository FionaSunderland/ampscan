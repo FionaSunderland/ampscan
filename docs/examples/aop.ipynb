{
 "cells": [
  {
   "cell_type": "markdown",
   "id": "e6e2848d",
   "metadata": {},
   "source": [
    "# AOP File Integration"
   ]
  },
  {
   "cell_type": "markdown",
   "id": "5b1a78e9",
   "metadata": {},
   "source": [
    "ampscan now has the ability to read and write AOP file. A typical workflow may involve: \n",
    "- Load two .stl files\n",
    "- Align using ICP\n",
    "- Save as AOP files\n",
    "- Reload as STL files"
   ]
  },
  {
   "cell_type": "code",
   "execution_count": 1,
   "id": "0038173d",
   "metadata": {},
   "outputs": [],
   "source": [
    "from ampscan import AmpObject, align, registration, analyse\n",
    "import numpy as np"
   ]
  },
  {
   "cell_type": "code",
   "execution_count": 2,
   "id": "a075d83a",
   "metadata": {
    "jupyter": {
     "source_hidden": true
    },
    "tags": []
   },
   "outputs": [],
   "source": [
    "import warnings\n",
    "warnings.filterwarnings('ignore')\n",
    "%matplotlib inline"
   ]
  },
  {
   "cell_type": "markdown",
   "id": "207bb236",
   "metadata": {},
   "source": [
    "Load in two stl files"
   ]
  },
  {
   "cell_type": "code",
   "execution_count": 3,
   "id": "bccbedd0",
   "metadata": {},
   "outputs": [],
   "source": [
    "base = AmpObject('stl_file.stl')\n",
    "move = AmpObject('stl_file_2.stl')\n",
    "base.rotateAng([0,0,-90], ang='deg')\n",
    "move.rotateAng([0,0,-90], ang='deg')\n",
    "base.hc_smooth(beta=0.6, n=5)\n",
    "move.hc_smooth(beta=0.6, n=5)"
   ]
  },
  {
   "cell_type": "markdown",
   "id": "1a15c419",
   "metadata": {},
   "source": [
    "Align base so distal end is centered"
   ]
  },
  {
   "cell_type": "code",
   "execution_count": 4,
   "id": "fab84dc9",
   "metadata": {},
   "outputs": [],
   "source": [
    "minZ = base.getVert()[:, 2].min()\n",
    "maxZ = base.getVert()[:, 2].max()\n",
    "totZ = maxZ - minZ\n",
    "\n",
    "distVLog = base.getVert()[:, 2] < (minZ + (totZ * 0.05))\n",
    "xShift = base.getVert()[distVLog, 0].mean()\n",
    "yShift = base.getVert()[distVLog, 1].mean()\n",
    "\n",
    "base.translate([-xShift, -yShift, 0])"
   ]
  },
  {
   "cell_type": "markdown",
   "id": "0dcfdb72",
   "metadata": {},
   "source": [
    "Automatically align the two files"
   ]
  },
  {
   "cell_type": "code",
   "execution_count": 5,
   "id": "c207b435",
   "metadata": {},
   "outputs": [],
   "source": [
    "al = align(move, base).getAlign()"
   ]
  },
  {
   "cell_type": "code",
   "execution_count": 6,
   "id": "08c48e98",
   "metadata": {},
   "outputs": [],
   "source": [
    "# min and max of base \n",
    "minBaseZ = base.getVert()[:, 2].min()\n",
    "maxBaseZ = base.getVert()[:, 2].max()\n",
    "# min and max of al\n",
    "minAlZ = al.getVert()[:, 2].min()\n",
    "maxAlZ = al.getVert()[:, 2].max()\n",
    "\n",
    "# get the largest min and smallest max\n",
    "maxZ = min(maxBaseZ, maxAlZ)\n",
    "minZ = max(minBaseZ, minAlZ)\n",
    "totZ = maxZ - minZ\n",
    "\n",
    "# Add a small adjustment factor so slices are valid \n",
    "maxZ -= (totZ * 0.01)\n",
    "minZ += (totZ * 0.01)"
   ]
  },
  {
   "cell_type": "markdown",
   "id": "d41050e7",
   "metadata": {},
   "source": [
    "Manually create the slice heights "
   ]
  },
  {
   "cell_type": "code",
   "execution_count": 7,
   "id": "ae314b13",
   "metadata": {},
   "outputs": [],
   "source": [
    "slices = np.linspace(minZ, maxZ, 100)\n",
    "spokes = 72"
   ]
  },
  {
   "cell_type": "markdown",
   "id": "e0429fca",
   "metadata": {},
   "source": [
    "Write the two .aop files"
   ]
  },
  {
   "cell_type": "code",
   "execution_count": 8,
   "id": "4edd855b",
   "metadata": {},
   "outputs": [],
   "source": [
    "base.save_aop('stl_file.aop', slices = slices, spokes = 72, closeEnd=False, centreEnd=False)\n",
    "al.save_aop('stl_file_2.aop', slices = slices, spokes = 72, closeEnd=False, centreEnd=False)"
   ]
  },
  {
   "cell_type": "markdown",
   "id": "9a7cd678",
   "metadata": {},
   "source": [
    "Load back in the objects and visualise"
   ]
  },
  {
   "cell_type": "code",
   "execution_count": 9,
   "id": "4ad6707b",
   "metadata": {},
   "outputs": [
    {
     "data": {
      "image/png": "[encoded data removed]",
      "text/plain": [
       "<Figure size 432x288 with 1 Axes>"
      ]
     },
     "metadata": {
      "needs_background": "light"
     },
     "output_type": "display_data"
    }
   ],
   "source": [
    "base_aop = AmpObject('stl_file.aop')\n",
    "move_aop = AmpObject('stl_file_2.aop')\n",
    "base_aop.rotateAng([0,0,45], ang='deg')\n",
    "move_aop.rotateAng([0,0,45], ang='deg')\n",
    "al = align(move_aop, base_aop, maxiter=0)\n",
    "import matplotlib.pyplot as plt\n",
    "plt.axis('off')\n",
    "im = al.genIm(crop='False')[0]\n",
    "ax = plt.imshow(im, interpolation='bicubic')"
   ]
  }
 ],
 "metadata": {
  "kernelspec": {
   "display_name": "Python 3",
   "language": "python",
   "name": "python3"
  },
  "language_info": {
   "codemirror_mode": {
    "name": "ipython",
    "version": 3
   },
   "file_extension": ".py",
   "mimetype": "text/x-python",
   "name": "python",
   "nbconvert_exporter": "python",
   "pygments_lexer": "ipython3",
   "version": "3.6.8"
  }
 },
 "nbformat": 4,
 "nbformat_minor": 5
}
