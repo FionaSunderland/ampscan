{
 "cells": [
  {
   "cell_type": "markdown",
   "metadata": {},
   "source": [
    "# ampscan webapp"
   ]
  },
  {
   "cell_type": "markdown",
   "metadata": {},
   "source": [
    "In addition to the built-in Python GUI, ampscan comes with a webapp accessible at [ampscan.io](https://ampscan.io/). A basic how-to guide is supplied below. \n"
   ]
  },
  {
   "cell_type": "markdown",
   "metadata": {},
   "source": [
    "## Basic Functionality"
   ]
  },
  {
   "cell_type": "markdown",
   "metadata": {},
   "source": [
    "The ampscan webapp is based upon the use of tabs to control different components. The windows can be accessed using the toolbar in the main screen. For example, to open the Registration Manager, navigate to the 'Registration' tab in the toolbar. "
   ]
  },
  {
   "cell_type": "markdown",
   "metadata": {},
   "source": [
    "![Fig 1](web_1.PNG \"Fig 1\")"
   ]
  },
  {
   "cell_type": "markdown",
   "metadata": {},
   "source": [
    "## Alignment\n",
    "\n",
    "To commence alignment, open two files into the AmpObject Manager. Select which file you want to be 'static' and which one 'moving' using the drop-down menus in the alignment manager."
   ]
  },
  {
   "cell_type": "markdown",
   "metadata": {},
   "source": [
    "![Fig 2](web_2.PNG \"Fig 2\")"
   ]
  },
  {
   "cell_type": "markdown",
   "metadata": {},
   "source": [
    "The initial step for alignment is often to centre the two shapes, which can be done with a single button press in the Alignment Manager. You can also perform manual alignment through the translation and rotation tools. \n",
    "\n",
    "You can change the colour and opacity of the scans to make it easier when aligning using the AmpObject Manager."
   ]
  },
  {
   "cell_type": "markdown",
   "metadata": {},
   "source": [
    "![Fig 3](web_3.PNG \"Fig 3\")"
   ]
  },
  {
   "cell_type": "markdown",
   "metadata": {},
   "source": [
    "To automatically align the two shapes, use the ICP tool in the Alignment Manager. If you require any further adjustments from this point, then use the manual alignment tools. "
   ]
  },
  {
   "cell_type": "markdown",
   "metadata": {},
   "source": [
    "![Fig 4](web_4.PNG \"Fig 4\")"
   ]
  },
  {
   "cell_type": "markdown",
   "metadata": {},
   "source": [
    "## Registration \n",
    "\n",
    "Once the two scans have been aligned, the registration function can be performed quantify the shape difference between the two objects. \n",
    "\n",
    "Under the registration manager, select the Baseline and Target AmpObject. The vertices on the Baseline Object and morphed onto the Target. As such, the Target mesh will end up with the same number of vertices as the Baseline mesh. \n",
    "\n",
    "Once this has been completed, direct point-to-point comparison between the objects is performed to visualise the difference between the shapes with a contour map. \n",
    "\n",
    "A new registration object is then saved with a new name and confirmed. At this stage, you can export the bins of the histogram or the values array as a .csv file. "
   ]
  },
  {
   "cell_type": "markdown",
   "metadata": {},
   "source": [
    "![Fig 5](web_5.PNG \"Fig 5\")"
   ]
  },
  {
   "cell_type": "markdown",
   "metadata": {},
   "source": [
    "## Measurements\n",
    "\n",
    "The analyse screen enables comparison of volume, cross-sectional area and width along the length of individual scans. You can use the manager in the bottom right to select which objects to compare.  \n"
   ]
  },
  {
   "cell_type": "markdown",
   "metadata": {},
   "source": [
    "![Fig 6](web_6.PNG \"Fig 6\")"
   ]
  }
 ],
 "metadata": {
  "kernelspec": {
   "display_name": "Python 3",
   "language": "python",
   "name": "python3"
  },
  "language_info": {
   "codemirror_mode": {
    "name": "ipython",
    "version": 3
   },
   "file_extension": ".py",
   "mimetype": "text/x-python",
   "name": "python",
   "nbconvert_exporter": "python",
   "pygments_lexer": "ipython3",
   "version": "3.6.8"
  }
 },
 "nbformat": 4,
 "nbformat_minor": 4
}
