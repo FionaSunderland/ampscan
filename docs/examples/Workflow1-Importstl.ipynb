version https://git-lfs.github.com/spec/v1
oid sha256:742a2483b1b54f3766e31c05a8326e3751f288f8caca769a7ffb68327ab2b4d0
size 17055343
