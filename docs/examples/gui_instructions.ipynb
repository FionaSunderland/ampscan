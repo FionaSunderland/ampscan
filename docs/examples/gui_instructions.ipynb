{
 "cells": [
  {
   "cell_type": "markdown",
   "metadata": {},
   "source": [
    "# GUI"
   ]
  },
  {
   "cell_type": "markdown",
   "metadata": {},
   "source": [
    "ampscan comes with a GUI supplied to access the core functionality of the package. A basic how-to guide is supplied below. \n",
    "\n",
    "To launch the GUI, navigate to the gui folder within ampscan. This can be accessed from GitHub. Use the cmd prompt to launch the gui through python. "
   ]
  },
  {
   "cell_type": "markdown",
   "metadata": {},
   "source": [
    "```\n",
    ">>> python ampscanGUI.py\n",
    "```"
   ]
  },
  {
   "cell_type": "markdown",
   "metadata": {},
   "source": [
    "## Basic Functionality"
   ]
  },
  {
   "cell_type": "markdown",
   "metadata": {},
   "source": [
    "The ampscan GUI is based upon several seperate windows to control different components. The windows can be accessed using the toolbar in the main screen. For example, to open the Registration Manager, navigate to the 'Registration' drop-down in the toolbar. \n",
    "\n",
    "With all windows open, the GUI will look as follows:"
   ]
  },
  {
   "cell_type": "markdown",
   "metadata": {},
   "source": [
    "![Fig 1](gui_1.PNG \"Fig 1\")"
   ]
  },
  {
   "cell_type": "markdown",
   "metadata": {},
   "source": [
    "## Alignment\n",
    "\n",
    "To commence alignment, open two files into the AmpObject Manager. Select which file you want to be 'static' and which one 'moving' using the drop-down menus in the alignment manager."
   ]
  },
  {
   "cell_type": "markdown",
   "metadata": {},
   "source": [
    "![Fig 2](gui_2.PNG \"Fig 2\")"
   ]
  },
  {
   "cell_type": "markdown",
   "metadata": {},
   "source": [
    "The initial step for alignment is often to centre the two shapes, which can be done with a single button press in the Alignment Manager. You can also perform manual alignment through the translation and rotation tools. \n",
    "\n",
    "You can change the colour and opacity of the scans to make it easier when aligning using the AmpObject Manager."
   ]
  },
  {
   "cell_type": "markdown",
   "metadata": {},
   "source": [
    "![Fig 3](gui_3.PNG \"Fig 3\")"
   ]
  },
  {
   "cell_type": "markdown",
   "metadata": {},
   "source": [
    "To automatically align the two shapes, use the ICP tool in the Alignment Manager. Once you have run this function, a new AmpObject will be created. If you require any further adjustments from this point, then use the manual alignment tools. "
   ]
  },
  {
   "cell_type": "markdown",
   "metadata": {},
   "source": [
    "![Fig 4](gui_4.PNG \"Fig 4\")"
   ]
  },
  {
   "cell_type": "markdown",
   "metadata": {},
   "source": [
    "## Registration \n",
    "\n",
    "Once the two scans have been aligned, the registration function can be performed quantify the shape difference between the two objects. \n",
    "\n",
    "Under the registration manager, select the Baseline and Target AmpObject. The vertices on the Baseline Object and morphed onto the Target. As such, the Target mesh will end up with the same number of vertices as the Baseline mesh. \n",
    "\n",
    "Once this has been completed, direct point-to-point comparison between the objects is performed to visualise the difference between the shapes with a contour map"
   ]
  },
  {
   "cell_type": "markdown",
   "metadata": {},
   "source": [
    "![Fig 5](gui_5.PNG \"Fig 5\")"
   ]
  },
  {
   "cell_type": "markdown",
   "metadata": {},
   "source": [
    "## Measurements\n",
    "\n",
    "Finally, to auto-generate an output report for each scan, first the Mid-Patella needs to be selected. The Mid-Patella is the point from which the cross-section area will be calculated. The selection tool can be found under the 'Measure' drop-down menu. Once the function has been selected, right-click to select the point. \n",
    "\n"
   ]
  },
  {
   "cell_type": "markdown",
   "metadata": {},
   "source": [
    "![Fig 6](gui_6.PNG \"Fig 6\")"
   ]
  },
  {
   "cell_type": "markdown",
   "metadata": {},
   "source": [
    "Following this, the measurements output can be generated from Measure drop-down. The resultant output will be a pdf with an example given below"
   ]
  },
  {
   "cell_type": "markdown",
   "metadata": {},
   "source": [
    "![Fig 7](gui_7.PNG \"Fig 7\")"
   ]
  },
  {
   "cell_type": "markdown",
   "metadata": {},
   "source": []
  }
 ],
 "metadata": {
  "kernelspec": {
   "display_name": "Python 3",
   "language": "python",
   "name": "python3"
  },
  "language_info": {
   "codemirror_mode": {
    "name": "ipython",
    "version": 3
   },
   "file_extension": ".py",
   "mimetype": "text/x-python",
   "name": "python",
   "nbconvert_exporter": "python",
   "pygments_lexer": "ipython3",
   "version": "3.6.8"
  }
 },
 "nbformat": 4,
 "nbformat_minor": 4
}
